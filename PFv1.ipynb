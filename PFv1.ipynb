{
 "cells": [
  {
   "cell_type": "code",
   "execution_count": 449,
   "metadata": {},
   "outputs": [],
   "source": [
    "import pandas as pd\n",
    "import numpy as np\n",
    "import matplotlib.pyplot as plt\n",
    "\n",
    "from sklearn.linear_model import Lasso\n",
    "from sklearn.metrics import mean_squared_error, r2_score\n",
    "from sklearn.model_selection import train_test_split\n",
    "from sklearn.pipeline import Pipeline\n",
    "from sklearn.preprocessing import MinMaxScaler, Binarizer\n",
    "\n",
    "from feature_engine.imputation import AddMissingIndicator, MeanMedianImputer, CategoricalImputer\n",
    "from feature_engine.encoding import RareLabelEncoder, OrdinalEncoder\n",
    "from feature_engine.transformation import LogTransformer\n",
    "from feature_engine.selection import DropFeatures\n",
    "from feature_engine.wrappers import SklearnTransformerWrapper\n",
    "from feature_engine.encoding import CountFrequencyEncoder, RareLabelEncoder\n",
    "\n",
    "import myPreprocessorsPF as mypp #nuestra librerías de transformaciones.\n",
    "\n",
    "import joblib"
   ]
  },
  {
   "attachments": {},
   "cell_type": "markdown",
   "metadata": {},
   "source": [
    "## 1) Escoger Dataset"
   ]
  },
  {
   "attachments": {},
   "cell_type": "markdown",
   "metadata": {},
   "source": [
    "### El dataset son sobre equipos de futbol y las caracteristicas que estos poseen. Como velocidad, vision de juego, oportunidades de tiros a porteria. "
   ]
  },
  {
   "cell_type": "code",
   "execution_count": 450,
   "metadata": {},
   "outputs": [
    {
     "data": {
      "text/html": [
       "<div>\n",
       "<style scoped>\n",
       "    .dataframe tbody tr th:only-of-type {\n",
       "        vertical-align: middle;\n",
       "    }\n",
       "\n",
       "    .dataframe tbody tr th {\n",
       "        vertical-align: top;\n",
       "    }\n",
       "\n",
       "    .dataframe thead th {\n",
       "        text-align: right;\n",
       "    }\n",
       "</style>\n",
       "<table border=\"1\" class=\"dataframe\">\n",
       "  <thead>\n",
       "    <tr style=\"text-align: right;\">\n",
       "      <th></th>\n",
       "      <th>id</th>\n",
       "      <th>date</th>\n",
       "      <th>buildUpPlaySpeed</th>\n",
       "      <th>buildUpPlaySpeedClass</th>\n",
       "      <th>buildUpPlayDribbling</th>\n",
       "      <th>buildUpPlayDribblingClass</th>\n",
       "      <th>buildUpPlayPassing</th>\n",
       "      <th>buildUpPlayPassingClass</th>\n",
       "      <th>buildUpPlayPositioningClass</th>\n",
       "      <th>chanceCreationPassing</th>\n",
       "      <th>...</th>\n",
       "      <th>chanceCreationShooting</th>\n",
       "      <th>chanceCreationShootingClass</th>\n",
       "      <th>chanceCreationPositioningClass</th>\n",
       "      <th>defencePressure</th>\n",
       "      <th>defencePressureClass</th>\n",
       "      <th>defenceAggression</th>\n",
       "      <th>defenceAggressionClass</th>\n",
       "      <th>defenceTeamWidth</th>\n",
       "      <th>defenceTeamWidthClass</th>\n",
       "      <th>defenceDefenderLineClass</th>\n",
       "    </tr>\n",
       "  </thead>\n",
       "  <tbody>\n",
       "    <tr>\n",
       "      <th>0</th>\n",
       "      <td>1</td>\n",
       "      <td>2/22/2010 0:00</td>\n",
       "      <td>60</td>\n",
       "      <td>Balanced</td>\n",
       "      <td>NaN</td>\n",
       "      <td>Little</td>\n",
       "      <td>50</td>\n",
       "      <td>Mixed</td>\n",
       "      <td>Organised</td>\n",
       "      <td>60</td>\n",
       "      <td>...</td>\n",
       "      <td>55</td>\n",
       "      <td>Normal</td>\n",
       "      <td>Organised</td>\n",
       "      <td>50</td>\n",
       "      <td>Medium</td>\n",
       "      <td>55</td>\n",
       "      <td>Press</td>\n",
       "      <td>45</td>\n",
       "      <td>Normal</td>\n",
       "      <td>Cover</td>\n",
       "    </tr>\n",
       "    <tr>\n",
       "      <th>1</th>\n",
       "      <td>2</td>\n",
       "      <td>9/19/2014 0:00</td>\n",
       "      <td>52</td>\n",
       "      <td>Balanced</td>\n",
       "      <td>48.0</td>\n",
       "      <td>Normal</td>\n",
       "      <td>56</td>\n",
       "      <td>Mixed</td>\n",
       "      <td>Organised</td>\n",
       "      <td>54</td>\n",
       "      <td>...</td>\n",
       "      <td>64</td>\n",
       "      <td>Normal</td>\n",
       "      <td>Organised</td>\n",
       "      <td>47</td>\n",
       "      <td>Medium</td>\n",
       "      <td>44</td>\n",
       "      <td>Press</td>\n",
       "      <td>54</td>\n",
       "      <td>Normal</td>\n",
       "      <td>Cover</td>\n",
       "    </tr>\n",
       "    <tr>\n",
       "      <th>2</th>\n",
       "      <td>3</td>\n",
       "      <td>9/10/2015 0:00</td>\n",
       "      <td>47</td>\n",
       "      <td>Balanced</td>\n",
       "      <td>41.0</td>\n",
       "      <td>Normal</td>\n",
       "      <td>54</td>\n",
       "      <td>Mixed</td>\n",
       "      <td>Organised</td>\n",
       "      <td>54</td>\n",
       "      <td>...</td>\n",
       "      <td>64</td>\n",
       "      <td>Normal</td>\n",
       "      <td>Organised</td>\n",
       "      <td>47</td>\n",
       "      <td>Medium</td>\n",
       "      <td>44</td>\n",
       "      <td>Press</td>\n",
       "      <td>54</td>\n",
       "      <td>Normal</td>\n",
       "      <td>Cover</td>\n",
       "    </tr>\n",
       "    <tr>\n",
       "      <th>3</th>\n",
       "      <td>4</td>\n",
       "      <td>2/22/2010 0:00</td>\n",
       "      <td>70</td>\n",
       "      <td>Fast</td>\n",
       "      <td>NaN</td>\n",
       "      <td>Little</td>\n",
       "      <td>70</td>\n",
       "      <td>Long</td>\n",
       "      <td>Organised</td>\n",
       "      <td>70</td>\n",
       "      <td>...</td>\n",
       "      <td>70</td>\n",
       "      <td>Lots</td>\n",
       "      <td>Organised</td>\n",
       "      <td>60</td>\n",
       "      <td>Medium</td>\n",
       "      <td>70</td>\n",
       "      <td>Double</td>\n",
       "      <td>70</td>\n",
       "      <td>Wide</td>\n",
       "      <td>Cover</td>\n",
       "    </tr>\n",
       "    <tr>\n",
       "      <th>4</th>\n",
       "      <td>5</td>\n",
       "      <td>2/22/2011 0:00</td>\n",
       "      <td>47</td>\n",
       "      <td>Balanced</td>\n",
       "      <td>NaN</td>\n",
       "      <td>Little</td>\n",
       "      <td>52</td>\n",
       "      <td>Mixed</td>\n",
       "      <td>Organised</td>\n",
       "      <td>53</td>\n",
       "      <td>...</td>\n",
       "      <td>52</td>\n",
       "      <td>Normal</td>\n",
       "      <td>Organised</td>\n",
       "      <td>47</td>\n",
       "      <td>Medium</td>\n",
       "      <td>47</td>\n",
       "      <td>Press</td>\n",
       "      <td>52</td>\n",
       "      <td>Normal</td>\n",
       "      <td>Cover</td>\n",
       "    </tr>\n",
       "  </tbody>\n",
       "</table>\n",
       "<p>5 rows × 23 columns</p>\n",
       "</div>"
      ],
      "text/plain": [
       "   id            date  buildUpPlaySpeed buildUpPlaySpeedClass  \\\n",
       "0   1  2/22/2010 0:00                60              Balanced   \n",
       "1   2  9/19/2014 0:00                52              Balanced   \n",
       "2   3  9/10/2015 0:00                47              Balanced   \n",
       "3   4  2/22/2010 0:00                70                  Fast   \n",
       "4   5  2/22/2011 0:00                47              Balanced   \n",
       "\n",
       "   buildUpPlayDribbling buildUpPlayDribblingClass  buildUpPlayPassing  \\\n",
       "0                   NaN                    Little                  50   \n",
       "1                  48.0                    Normal                  56   \n",
       "2                  41.0                    Normal                  54   \n",
       "3                   NaN                    Little                  70   \n",
       "4                   NaN                    Little                  52   \n",
       "\n",
       "  buildUpPlayPassingClass buildUpPlayPositioningClass  chanceCreationPassing  \\\n",
       "0                   Mixed                   Organised                     60   \n",
       "1                   Mixed                   Organised                     54   \n",
       "2                   Mixed                   Organised                     54   \n",
       "3                    Long                   Organised                     70   \n",
       "4                   Mixed                   Organised                     53   \n",
       "\n",
       "   ... chanceCreationShooting  chanceCreationShootingClass  \\\n",
       "0  ...                     55                       Normal   \n",
       "1  ...                     64                       Normal   \n",
       "2  ...                     64                       Normal   \n",
       "3  ...                     70                         Lots   \n",
       "4  ...                     52                       Normal   \n",
       "\n",
       "  chanceCreationPositioningClass  defencePressure defencePressureClass  \\\n",
       "0                      Organised               50               Medium   \n",
       "1                      Organised               47               Medium   \n",
       "2                      Organised               47               Medium   \n",
       "3                      Organised               60               Medium   \n",
       "4                      Organised               47               Medium   \n",
       "\n",
       "  defenceAggression  defenceAggressionClass defenceTeamWidth  \\\n",
       "0                55                   Press               45   \n",
       "1                44                   Press               54   \n",
       "2                44                   Press               54   \n",
       "3                70                  Double               70   \n",
       "4                47                   Press               52   \n",
       "\n",
       "   defenceTeamWidthClass defenceDefenderLineClass  \n",
       "0                 Normal                    Cover  \n",
       "1                 Normal                    Cover  \n",
       "2                 Normal                    Cover  \n",
       "3                   Wide                    Cover  \n",
       "4                 Normal                    Cover  \n",
       "\n",
       "[5 rows x 23 columns]"
      ]
     },
     "execution_count": 450,
     "metadata": {},
     "output_type": "execute_result"
    }
   ],
   "source": [
    "DataBase = pd.read_csv(\"DataBase ProyectoFinal CSV.csv\")\n",
    "DataBase.head()"
   ]
  },
  {
   "attachments": {},
   "cell_type": "markdown",
   "metadata": {},
   "source": [
    "## 2) Análisis exploratorio: debe realizarlo para todo el dataset elegido, mostrando información relevante. Mostrar resultados y gráficas"
   ]
  },
  {
   "cell_type": "code",
   "execution_count": 451,
   "metadata": {},
   "outputs": [
    {
     "data": {
      "text/plain": [
       "['buildUpPlayDribbling']"
      ]
     },
     "execution_count": 451,
     "metadata": {},
     "output_type": "execute_result"
    }
   ],
   "source": [
    "cols_con_na = [col for col in DataBase.columns if (DataBase[col].isnull().mean() > 0)] ## Hayar las columnas que poseen datos nulos. \n",
    "cols_con_na"
   ]
  },
  {
   "cell_type": "code",
   "execution_count": 452,
   "metadata": {},
   "outputs": [
    {
     "data": {
      "text/plain": [
       "buildUpPlayDribbling    float64\n",
       "dtype: object"
      ]
     },
     "execution_count": 452,
     "metadata": {},
     "output_type": "execute_result"
    }
   ],
   "source": [
    "DataBase[cols_con_na].dtypes # tipo de datos de la columna nulo"
   ]
  },
  {
   "cell_type": "code",
   "execution_count": 453,
   "metadata": {},
   "outputs": [],
   "source": [
    "cols_rescatables = [col for col in DataBase.columns if (DataBase[col].isnull().mean() <= 0.01)] #columnas que no son nulos "
   ]
  },
  {
   "cell_type": "code",
   "execution_count": 454,
   "metadata": {},
   "outputs": [
    {
     "data": {
      "text/plain": [
       "id                                  int64\n",
       "date                               object\n",
       "buildUpPlaySpeed                    int64\n",
       "buildUpPlaySpeedClass              object\n",
       "buildUpPlayDribbling              float64\n",
       "buildUpPlayDribblingClass          object\n",
       "buildUpPlayPassing                  int64\n",
       "buildUpPlayPassingClass            object\n",
       "buildUpPlayPositioningClass        object\n",
       "chanceCreationPassing               int64\n",
       "chanceCreationPassingClass         object\n",
       "chanceCreationCrossing              int64\n",
       "chanceCreationCrossingClass        object\n",
       "chanceCreationShooting              int64\n",
       "chanceCreationShootingClass        object\n",
       "chanceCreationPositioningClass     object\n",
       "defencePressure                     int64\n",
       "defencePressureClass               object\n",
       "defenceAggression                   int64\n",
       "defenceAggressionClass             object\n",
       "defenceTeamWidth                    int64\n",
       "defenceTeamWidthClass              object\n",
       "defenceDefenderLineClass           object\n",
       "dtype: object"
      ]
     },
     "execution_count": 454,
     "metadata": {},
     "output_type": "execute_result"
    }
   ],
   "source": [
    "DataBase.dtypes # tipo de datos de las columnas del database"
   ]
  },
  {
   "cell_type": "code",
   "execution_count": 455,
   "metadata": {},
   "outputs": [
    {
     "data": {
      "image/png": "[encoded data removed]",
      "text/plain": [
       "<Figure size 640x480 with 1 Axes>"
      ]
     },
     "metadata": {},
     "output_type": "display_data"
    }
   ],
   "source": [
    "DataBase['chanceCreationShooting'].hist(bins=50, density=True, color='red', alpha=0.2)\n",
    "DataBase['buildUpPlayPassing'].hist(bins=50, density=True, color='blue', alpha=0.2)\n",
    "DataBase['buildUpPlayDribbling'].hist(bins=50, density=True, color='aqua', alpha=0.2)\n",
    "DataBase['chanceCreationCrossing'].hist(bins=50, density=True, color='green', alpha=0.2)\n",
    "plt.show()"
   ]
  },
  {
   "cell_type": "code",
   "execution_count": 456,
   "metadata": {},
   "outputs": [
    {
     "data": {
      "image/png": "[encoded data removed]",
      "text/plain": [
       "<Figure size 640x480 with 1 Axes>"
      ]
     },
     "metadata": {},
     "output_type": "display_data"
    }
   ],
   "source": [
    "DataBase['chanceCreationShooting'].hist(bins=50, density=True, color='red', alpha=0.2)\n",
    "plt.show()"
   ]
  },
  {
   "cell_type": "code",
   "execution_count": 457,
   "metadata": {},
   "outputs": [
    {
     "data": {
      "image/png": "[encoded data removed]",
      "text/plain": [
       "<Figure size 640x480 with 1 Axes>"
      ]
     },
     "metadata": {},
     "output_type": "display_data"
    }
   ],
   "source": [
    "DataBase['buildUpPlayPassing'].hist(bins=50, density=True, color='blue', alpha=0.2)\n",
    "plt.show()"
   ]
  },
  {
   "cell_type": "code",
   "execution_count": 458,
   "metadata": {},
   "outputs": [
    {
     "data": {
      "image/png": "[encoded data removed]",
      "text/plain": [
       "<Figure size 640x480 with 1 Axes>"
      ]
     },
     "metadata": {},
     "output_type": "display_data"
    }
   ],
   "source": [
    "DataBase['chanceCreationCrossing'].hist(bins=50, density=True, color='green', alpha=0.2)\n",
    "plt.show()"
   ]
  },
  {
   "cell_type": "code",
   "execution_count": 459,
   "metadata": {},
   "outputs": [
    {
     "data": {
      "image/png": "[encoded data removed]",
      "text/plain": [
       "<Figure size 640x480 with 1 Axes>"
      ]
     },
     "metadata": {},
     "output_type": "display_data"
    }
   ],
   "source": [
    "DataBase['buildUpPlayDribbling'].hist(bins=50, density=True, color='aqua', alpha=0.2)\n",
    "plt.show()"
   ]
  },
  {
   "attachments": {},
   "cell_type": "markdown",
   "metadata": {},
   "source": [
    "### Hacemos  el test Train y Test utilizando el 'id' y 'chanceCreationShooting' "
   ]
  },
  {
   "attachments": {},
   "cell_type": "markdown",
   "metadata": {},
   "source": [
    "# 3) Seleccion de Variables"
   ]
  },
  {
   "cell_type": "code",
   "execution_count": 460,
   "metadata": {},
   "outputs": [],
   "source": [
    "## Se eliminaran las siguientes columnas\n",
    "columnas_a_eliminar = ['buildUpPlayPositioningClass', 'defenceTeamWidthClass','defenceTeamWidth','defenceDefenderLineClass','date']\n",
    "df = DataBase.drop(columns=columnas_a_eliminar)"
   ]
  },
  {
   "cell_type": "code",
   "execution_count": 461,
   "metadata": {},
   "outputs": [
    {
     "data": {
      "text/html": [
       "<div>\n",
       "<style scoped>\n",
       "    .dataframe tbody tr th:only-of-type {\n",
       "        vertical-align: middle;\n",
       "    }\n",
       "\n",
       "    .dataframe tbody tr th {\n",
       "        vertical-align: top;\n",
       "    }\n",
       "\n",
       "    .dataframe thead th {\n",
       "        text-align: right;\n",
       "    }\n",
       "</style>\n",
       "<table border=\"1\" class=\"dataframe\">\n",
       "  <thead>\n",
       "    <tr style=\"text-align: right;\">\n",
       "      <th></th>\n",
       "      <th>id</th>\n",
       "      <th>buildUpPlaySpeed</th>\n",
       "      <th>buildUpPlaySpeedClass</th>\n",
       "      <th>buildUpPlayDribbling</th>\n",
       "      <th>buildUpPlayDribblingClass</th>\n",
       "      <th>buildUpPlayPassing</th>\n",
       "      <th>buildUpPlayPassingClass</th>\n",
       "      <th>chanceCreationPassing</th>\n",
       "      <th>chanceCreationPassingClass</th>\n",
       "      <th>chanceCreationCrossing</th>\n",
       "      <th>chanceCreationCrossingClass</th>\n",
       "      <th>chanceCreationShooting</th>\n",
       "      <th>chanceCreationShootingClass</th>\n",
       "      <th>chanceCreationPositioningClass</th>\n",
       "      <th>defencePressure</th>\n",
       "      <th>defencePressureClass</th>\n",
       "      <th>defenceAggression</th>\n",
       "      <th>defenceAggressionClass</th>\n",
       "    </tr>\n",
       "  </thead>\n",
       "  <tbody>\n",
       "    <tr>\n",
       "      <th>0</th>\n",
       "      <td>1</td>\n",
       "      <td>60</td>\n",
       "      <td>Balanced</td>\n",
       "      <td>NaN</td>\n",
       "      <td>Little</td>\n",
       "      <td>50</td>\n",
       "      <td>Mixed</td>\n",
       "      <td>60</td>\n",
       "      <td>Normal</td>\n",
       "      <td>65</td>\n",
       "      <td>Normal</td>\n",
       "      <td>55</td>\n",
       "      <td>Normal</td>\n",
       "      <td>Organised</td>\n",
       "      <td>50</td>\n",
       "      <td>Medium</td>\n",
       "      <td>55</td>\n",
       "      <td>Press</td>\n",
       "    </tr>\n",
       "    <tr>\n",
       "      <th>1</th>\n",
       "      <td>2</td>\n",
       "      <td>52</td>\n",
       "      <td>Balanced</td>\n",
       "      <td>48.0</td>\n",
       "      <td>Normal</td>\n",
       "      <td>56</td>\n",
       "      <td>Mixed</td>\n",
       "      <td>54</td>\n",
       "      <td>Normal</td>\n",
       "      <td>63</td>\n",
       "      <td>Normal</td>\n",
       "      <td>64</td>\n",
       "      <td>Normal</td>\n",
       "      <td>Organised</td>\n",
       "      <td>47</td>\n",
       "      <td>Medium</td>\n",
       "      <td>44</td>\n",
       "      <td>Press</td>\n",
       "    </tr>\n",
       "    <tr>\n",
       "      <th>2</th>\n",
       "      <td>3</td>\n",
       "      <td>47</td>\n",
       "      <td>Balanced</td>\n",
       "      <td>41.0</td>\n",
       "      <td>Normal</td>\n",
       "      <td>54</td>\n",
       "      <td>Mixed</td>\n",
       "      <td>54</td>\n",
       "      <td>Normal</td>\n",
       "      <td>63</td>\n",
       "      <td>Normal</td>\n",
       "      <td>64</td>\n",
       "      <td>Normal</td>\n",
       "      <td>Organised</td>\n",
       "      <td>47</td>\n",
       "      <td>Medium</td>\n",
       "      <td>44</td>\n",
       "      <td>Press</td>\n",
       "    </tr>\n",
       "    <tr>\n",
       "      <th>3</th>\n",
       "      <td>4</td>\n",
       "      <td>70</td>\n",
       "      <td>Fast</td>\n",
       "      <td>NaN</td>\n",
       "      <td>Little</td>\n",
       "      <td>70</td>\n",
       "      <td>Long</td>\n",
       "      <td>70</td>\n",
       "      <td>Risky</td>\n",
       "      <td>70</td>\n",
       "      <td>Lots</td>\n",
       "      <td>70</td>\n",
       "      <td>Lots</td>\n",
       "      <td>Organised</td>\n",
       "      <td>60</td>\n",
       "      <td>Medium</td>\n",
       "      <td>70</td>\n",
       "      <td>Double</td>\n",
       "    </tr>\n",
       "    <tr>\n",
       "      <th>4</th>\n",
       "      <td>5</td>\n",
       "      <td>47</td>\n",
       "      <td>Balanced</td>\n",
       "      <td>NaN</td>\n",
       "      <td>Little</td>\n",
       "      <td>52</td>\n",
       "      <td>Mixed</td>\n",
       "      <td>53</td>\n",
       "      <td>Normal</td>\n",
       "      <td>48</td>\n",
       "      <td>Normal</td>\n",
       "      <td>52</td>\n",
       "      <td>Normal</td>\n",
       "      <td>Organised</td>\n",
       "      <td>47</td>\n",
       "      <td>Medium</td>\n",
       "      <td>47</td>\n",
       "      <td>Press</td>\n",
       "    </tr>\n",
       "  </tbody>\n",
       "</table>\n",
       "</div>"
      ],
      "text/plain": [
       "   id  buildUpPlaySpeed buildUpPlaySpeedClass  buildUpPlayDribbling  \\\n",
       "0   1                60              Balanced                   NaN   \n",
       "1   2                52              Balanced                  48.0   \n",
       "2   3                47              Balanced                  41.0   \n",
       "3   4                70                  Fast                   NaN   \n",
       "4   5                47              Balanced                   NaN   \n",
       "\n",
       "  buildUpPlayDribblingClass  buildUpPlayPassing buildUpPlayPassingClass  \\\n",
       "0                    Little                  50                   Mixed   \n",
       "1                    Normal                  56                   Mixed   \n",
       "2                    Normal                  54                   Mixed   \n",
       "3                    Little                  70                    Long   \n",
       "4                    Little                  52                   Mixed   \n",
       "\n",
       "   chanceCreationPassing chanceCreationPassingClass  chanceCreationCrossing  \\\n",
       "0                     60                     Normal                      65   \n",
       "1                     54                     Normal                      63   \n",
       "2                     54                     Normal                      63   \n",
       "3                     70                      Risky                      70   \n",
       "4                     53                     Normal                      48   \n",
       "\n",
       "  chanceCreationCrossingClass  chanceCreationShooting  \\\n",
       "0                      Normal                      55   \n",
       "1                      Normal                      64   \n",
       "2                      Normal                      64   \n",
       "3                        Lots                      70   \n",
       "4                      Normal                      52   \n",
       "\n",
       "  chanceCreationShootingClass chanceCreationPositioningClass  defencePressure  \\\n",
       "0                      Normal                      Organised               50   \n",
       "1                      Normal                      Organised               47   \n",
       "2                      Normal                      Organised               47   \n",
       "3                        Lots                      Organised               60   \n",
       "4                      Normal                      Organised               47   \n",
       "\n",
       "  defencePressureClass  defenceAggression defenceAggressionClass  \n",
       "0               Medium                 55                  Press  \n",
       "1               Medium                 44                  Press  \n",
       "2               Medium                 44                  Press  \n",
       "3               Medium                 70                 Double  \n",
       "4               Medium                 47                  Press  "
      ]
     },
     "execution_count": 461,
     "metadata": {},
     "output_type": "execute_result"
    }
   ],
   "source": [
    "df.head()"
   ]
  },
  {
   "cell_type": "code",
   "execution_count": 462,
   "metadata": {},
   "outputs": [],
   "source": [
    "def contar_valores(columnas, dataframe):\n",
    "    resultados = {}\n",
    "    for columna in columnas:\n",
    "        conteo = dataframe[columna].value_counts()\n",
    "        resultados[columna] = conteo\n",
    "    return resultados\n",
    "\n"
   ]
  },
  {
   "cell_type": "code",
   "execution_count": 463,
   "metadata": {},
   "outputs": [
    {
     "name": "stdout",
     "output_type": "stream",
     "text": [
      "Valores contados para la columna 'buildUpPlaySpeedClass':\n",
      "Balanced    1184\n",
      "Fast         172\n",
      "Slow         102\n",
      "Name: buildUpPlaySpeedClass, dtype: int64\n",
      "\n",
      "Valores contados para la columna 'buildUpPlayDribblingClass':\n",
      "Little    1004\n",
      "Normal     433\n",
      "Lots        21\n",
      "Name: buildUpPlayDribblingClass, dtype: int64\n",
      "\n",
      "Valores contados para la columna 'buildUpPlayPassingClass':\n",
      "Mixed    1236\n",
      "Short     128\n",
      "Long       94\n",
      "Name: buildUpPlayPassingClass, dtype: int64\n",
      "\n",
      "Valores contados para la columna 'chanceCreationShootingClass':\n",
      "Normal    1224\n",
      "Lots       197\n",
      "Little      37\n",
      "Name: chanceCreationShootingClass, dtype: int64\n",
      "\n",
      "Valores contados para la columna 'chanceCreationPositioningClass':\n",
      "Organised    1309\n",
      "Free Form     149\n",
      "Name: chanceCreationPositioningClass, dtype: int64\n",
      "\n",
      "Valores contados para la columna 'defencePressureClass':\n",
      "Medium    1243\n",
      "Deep       154\n",
      "High        61\n",
      "Name: defencePressureClass, dtype: int64\n",
      "\n",
      "Valores contados para la columna 'defenceAggressionClass':\n",
      "Press      1274\n",
      "Double       99\n",
      "Contain      85\n",
      "Name: defenceAggressionClass, dtype: int64\n",
      "\n",
      "Valores contados para la columna 'chanceCreationCrossingClass':\n",
      "Normal    1195\n",
      "Lots       211\n",
      "Little      52\n",
      "Name: chanceCreationCrossingClass, dtype: int64\n",
      "\n",
      "Valores contados para la columna 'chanceCreationPassingClass':\n",
      "Normal    1231\n",
      "Risky      171\n",
      "Safe        56\n",
      "Name: chanceCreationPassingClass, dtype: int64\n",
      "\n"
     ]
    }
   ],
   "source": [
    "columnas_seleccionadas = ['buildUpPlaySpeedClass', 'buildUpPlayDribblingClass','buildUpPlayPassingClass','chanceCreationShootingClass','chanceCreationPositioningClass', 'defencePressureClass','defenceAggressionClass', 'chanceCreationCrossingClass', \n",
    "                          'chanceCreationPassingClass']\n",
    "valores_contados = contar_valores(columnas_seleccionadas, df)\n",
    "\n",
    "for columna, conteo in valores_contados.items():\n",
    "    print(f\"Valores contados para la columna '{columna}':\")\n",
    "    print(conteo)\n",
    "    print()"
   ]
  },
  {
   "attachments": {},
   "cell_type": "markdown",
   "metadata": {},
   "source": [
    "# 4) Ingeniería de características: deberá desarrollar todo el procedimiento de ingeniería  de  características  que  considere  necesario  para  resolver  el problema de predicción"
   ]
  },
  {
   "cell_type": "code",
   "execution_count": 464,
   "metadata": {},
   "outputs": [],
   "source": [
    "X_train, X_test, y_train, y_test = train_test_split(df.drop(['id', 'chanceCreationShooting'],axis=1),\n",
    "                                                    df['chanceCreationShooting'],\n",
    "                                                    test_size=0.3,\n",
    "                                                    random_state=2023)"
   ]
  },
  {
   "cell_type": "code",
   "execution_count": 465,
   "metadata": {},
   "outputs": [],
   "source": [
    "#Imputación de variables numéricas\n",
    "NUMERICAL_VARS_WITH_NA = ['buildUpPlayDribbling']\n",
    "\n",
    "#Variables para transfomraicón logarítmica\n",
    "NUMERICAL_LOG_VARS = [\"buildUpPlaySpeed\", \"buildUpPlayDribbling\", \"buildUpPlayPassing\",\"chanceCreationPassing\",\"chanceCreationCrossing\",\"defencePressure\",\"defenceAggression\"]\n",
    "\n",
    "#Variables para codificación ordinal.\n",
    "QUAL_VARS = ['chanceCreationCrossingClass','chanceCreationShootingClass','buildUpPlayDribblingClass']\n",
    "\n",
    "\n",
    "#Variables para codificación por frecuencia (no ordinal)\n",
    "###CATEGORICAL_VARS = ['defenceAggressionClass',  'defencePressureClass',  'chanceCreationPositioningClass',  'chanceCreationPassingClass',\n",
    "###                    'buildUpPlayPassingClass', 'buildUpPlaySpeedClass']\n",
    "\n",
    "defenceAggressionClass_VARS = ['defenceAggressionClass']\n",
    "defencePressureClass_VARS = ['defencePressureClass']\n",
    "chanceCreationPositioningClass_VARS = ['chanceCreationPositioningClass']\n",
    "chanceCreationPassingClass_VARS = ['chanceCreationPassingClass']\n",
    "buildUpPlayPassingClass_VARS = ['buildUpPlayPassingClass']\n",
    "buildUpPlaySpeedClass_VARS = ['buildUpPlaySpeedClass']\n",
    "\n",
    "\n",
    "#Mapeo para varibels categótricas para calidad.\n",
    "QUAL_MAPPINGS = {'Lots': 1, 'Normal': 2, 'Little': 3}\n",
    "\n",
    "defenceAggressionClass_MAPPINGS = {'Press': 1, 'Double': 2, 'Contain': 3}\n",
    "\n",
    "defencePressureClass_MAPPINGS = {'Medium': 1, 'Deep': 2, 'High': 3}\n",
    "\n",
    "chanceCreationPositioningClass_MAPPINGS = {'Organised': 1, 'Free Form': 2}\n",
    "\n",
    "chanceCreationPassingClass_MAPPINGS = {'Normal': 1, 'Risky': 2, 'Safe': 3}\n",
    "\n",
    "buildUpPlayPassingClass_MAPPINGS = {'Mixed': 1, 'Short': 2, 'Long': 3}\n",
    "\n",
    "buildUpPlaySpeedClass_MAPPINGS = {'Balanced': 1, 'Fast': 2, 'Slow': 3}\n",
    "\n",
    "\n",
    "#Mapeo para varibels categótricas para calidad.\n",
    "QUAL_MAPPINGS = {'Lots': 1, 'Normal': 2, 'Little': 3}\n",
    "#Variables a utilzar en el entrenamiento\n",
    "FEATURES = [\n",
    "    'buildUpPlaySpeed',\n",
    "    'buildUpPlaySpeedClass',\n",
    "    'buildUpPlayDribbling',\n",
    "    'buildUpPlayDribblingClass',\n",
    "    'buildUpPlayPassing',\n",
    "    'buildUpPlayPassingClass',\n",
    "    'chanceCreationPassing',\n",
    "    'chanceCreationPassingClass',\n",
    "    'chanceCreationCrossing',\n",
    "    'chanceCreationCrossingClass',\n",
    "    'chanceCreationShootingClass',\n",
    "    'chanceCreationPositioningClass',\n",
    "    'defencePressure',\n",
    "    'defencePressureClass',\n",
    "    'defenceAggression',\n",
    "    'defenceAggressionClass',\n",
    "]"
   ]
  },
  {
   "cell_type": "code",
   "execution_count": 466,
   "metadata": {},
   "outputs": [],
   "source": [
    "X_train = X_train[FEATURES]"
   ]
  },
  {
   "cell_type": "code",
   "execution_count": 467,
   "metadata": {},
   "outputs": [],
   "source": [
    "y_train = np.log(y_train)\n",
    "y_test = np.log(y_test)"
   ]
  },
  {
   "cell_type": "code",
   "execution_count": 468,
   "metadata": {},
   "outputs": [],
   "source": [
    "import myPreprocessorsPF as mypp"
   ]
  },
  {
   "cell_type": "code",
   "execution_count": 469,
   "metadata": {},
   "outputs": [],
   "source": [
    "ProyectoFinal_pipeline_v123 = Pipeline([\n",
    "    #==========Imputaciones====================\n",
    "\n",
    "    ('missing_indicator_numeric',\n",
    "        AddMissingIndicator(variables=NUMERICAL_VARS_WITH_NA)\n",
    "    ),\n",
    "    \n",
    "\n",
    "    ('mean_imputation',\n",
    "        MeanMedianImputer(imputation_method='mean', variables=NUMERICAL_VARS_WITH_NA)\n",
    "    ),\n",
    "\n",
    "    #Codificacion de variables categoricas\n",
    "    ('quality_mapper',\n",
    "                mypp.Mapper(variables=QUAL_VARS,\n",
    "                            mappings=QUAL_MAPPINGS)),\n",
    "\n",
    "    ('defenceAggressionClass',\n",
    "                mypp.Mapper(variables=defenceAggressionClass_VARS,\n",
    "                            mappings=defenceAggressionClass_MAPPINGS)),\n",
    "    \n",
    "    ('defencePressureClass',\n",
    "                mypp.Mapper(variables=defencePressureClass_VARS,\n",
    "                            mappings=defencePressureClass_MAPPINGS)),\n",
    "\n",
    "    ('chanceCreationPositioningClass',\n",
    "                mypp.Mapper(variables=chanceCreationPositioningClass_VARS,\n",
    "                            mappings=chanceCreationPositioningClass_MAPPINGS)),\n",
    "    \n",
    "    ('chanceCreationPassingClass',\n",
    "                mypp.Mapper(variables=chanceCreationPassingClass_VARS,\n",
    "                            mappings=chanceCreationPassingClass_MAPPINGS)),\n",
    "\n",
    "    ('buildUpPlayPassingClass',\n",
    "                mypp.Mapper(variables=buildUpPlayPassingClass_VARS,\n",
    "                            mappings=buildUpPlayPassingClass_MAPPINGS)),\n",
    "\n",
    "    ('buildUpPlaySpeedClass',\n",
    "                mypp.Mapper(variables=buildUpPlaySpeedClass_VARS,\n",
    "                            mappings=buildUpPlaySpeedClass_MAPPINGS)),\n",
    "\n",
    "    \n",
    "    ('log_tansform',\n",
    "        LogTransformer(variables=NUMERICAL_LOG_VARS)),\n",
    "\n",
    "    #Feature Scalling\n",
    "    ('scaler',\n",
    "        MinMaxScaler()\n",
    "    ),\n",
    "    \n",
    "    ('modelo_lasso', \n",
    "         Lasso(alpha=0.01, random_state=2022)\n",
    "    )\n",
    "\n",
    "\n",
    "])"
   ]
  },
  {
   "cell_type": "code",
   "execution_count": 470,
   "metadata": {},
   "outputs": [
    {
     "data": {
      "text/plain": [
       "Pipeline(steps=[('missing_indicator_numeric',\n",
       "                 AddMissingIndicator(variables=['buildUpPlayDribbling'])),\n",
       "                ('mean_imputation',\n",
       "                 MeanMedianImputer(imputation_method='mean',\n",
       "                                   variables=['buildUpPlayDribbling'])),\n",
       "                ('quality_mapper',\n",
       "                 Mapper(mappings={'Little': 3, 'Lots': 1, 'Normal': 2},\n",
       "                        variables=['chanceCreationCrossingClass',\n",
       "                                   'chanceCreationShootingClass',\n",
       "                                   'buildUpPla...\n",
       "                 Mapper(mappings={'Balanced': 1, 'Fast': 2, 'Slow': 3},\n",
       "                        variables=['buildUpPlaySpeedClass'])),\n",
       "                ('log_tansform',\n",
       "                 LogTransformer(variables=['buildUpPlaySpeed',\n",
       "                                           'buildUpPlayDribbling',\n",
       "                                           'buildUpPlayPassing',\n",
       "                                           'chanceCreationPassing',\n",
       "                                           'chanceCreationCrossing',\n",
       "                                           'defencePressure',\n",
       "                                           'defenceAggression'])),\n",
       "                ('scaler', MinMaxScaler()),\n",
       "                ('modelo_lasso', Lasso(alpha=0.01, random_state=2022))])"
      ]
     },
     "execution_count": 470,
     "metadata": {},
     "output_type": "execute_result"
    }
   ],
   "source": [
    "ProyectoFinal_pipeline_v123.fit(X_train, y_train)"
   ]
  },
  {
   "attachments": {},
   "cell_type": "markdown",
   "metadata": {},
   "source": [
    "# 5) Desarrollo de modelo de clasificación"
   ]
  },
  {
   "cell_type": "code",
   "execution_count": 471,
   "metadata": {},
   "outputs": [],
   "source": [
    "import pandas as pd\n",
    "import numpy as np\n",
    "\n",
    "from sklearn.linear_model import Lasso\n",
    "from sklearn.metrics import mean_squared_error, r2_score\n",
    "from sklearn.model_selection import train_test_split\n",
    "from sklearn.pipeline import Pipeline\n",
    "from sklearn.preprocessing import MinMaxScaler, Binarizer\n",
    "\n",
    "from feature_engine.imputation import AddMissingIndicator, MeanMedianImputer, CategoricalImputer\n",
    "from feature_engine.encoding import RareLabelEncoder, OrdinalEncoder\n",
    "from feature_engine.transformation import LogTransformer\n",
    "from feature_engine.selection import DropFeatures\n",
    "from feature_engine.wrappers import SklearnTransformerWrapper\n",
    "\n",
    "import joblib"
   ]
  },
  {
   "cell_type": "code",
   "execution_count": 472,
   "metadata": {},
   "outputs": [],
   "source": [
    "X_test = X_test[FEATURES]"
   ]
  },
  {
   "cell_type": "code",
   "execution_count": 473,
   "metadata": {},
   "outputs": [],
   "source": [
    "preds = ProyectoFinal_pipeline_v123.predict(X_test)"
   ]
  },
  {
   "attachments": {},
   "cell_type": "markdown",
   "metadata": {},
   "source": [
    "### RMSE que poseemos para el test"
   ]
  },
  {
   "cell_type": "code",
   "execution_count": 474,
   "metadata": {},
   "outputs": [
    {
     "data": {
      "text/plain": [
       "7.715500664335233"
      ]
     },
     "execution_count": 474,
     "metadata": {},
     "output_type": "execute_result"
    }
   ],
   "source": [
    "rmseTest = np.sqrt(mean_squared_error(np.exp(y_test), np.exp(preds)))\n",
    "rmseTest"
   ]
  },
  {
   "attachments": {},
   "cell_type": "markdown",
   "metadata": {},
   "source": [
    "### Mejorar el RMSE "
   ]
  },
  {
   "cell_type": "code",
   "execution_count": 475,
   "metadata": {},
   "outputs": [
    {
     "data": {
      "text/plain": [
       "(22.000000000000004, 79.99999999999997)"
      ]
     },
     "execution_count": 475,
     "metadata": {},
     "output_type": "execute_result"
    }
   ],
   "source": [
    "np.min(np.exp(y_train)), np.max(np.exp(y_train))"
   ]
  },
  {
   "cell_type": "code",
   "execution_count": 476,
   "metadata": {},
   "outputs": [
    {
     "data": {
      "text/plain": [
       "0.1330258735230213"
      ]
     },
     "execution_count": 476,
     "metadata": {},
     "output_type": "execute_result"
    }
   ],
   "source": [
    "rmseTest / (np.max(np.exp(y_train)) - np.min(np.exp(y_train)))"
   ]
  },
  {
   "cell_type": "code",
   "execution_count": 477,
   "metadata": {},
   "outputs": [],
   "source": [
    "from sklearn.metrics import accuracy_score\n",
    "from sklearn.metrics import roc_auc_score\n",
    "\n",
    "from sklearn.model_selection import train_test_split\n",
    "\n",
    "from sklearn.preprocessing import StandardScaler"
   ]
  },
  {
   "cell_type": "code",
   "execution_count": 478,
   "metadata": {},
   "outputs": [],
   "source": [
    "X = df.drop(['chanceCreationShooting','id'], axis=1)\n",
    "y = df['chanceCreationShooting']"
   ]
  },
  {
   "cell_type": "code",
   "execution_count": 479,
   "metadata": {},
   "outputs": [],
   "source": [
    "X_train, X_test, y_train, y_test = train_test_split(X, y, test_size=0.3, shuffle=True, random_state=2023)"
   ]
  },
  {
   "cell_type": "code",
   "execution_count": 480,
   "metadata": {},
   "outputs": [],
   "source": [
    "variables_categoricas = ['buildUpPlayDribbling','defenceAggressionClass',  'defencePressureClass',  'chanceCreationPositioningClass',  'chanceCreationPassingClass',\n",
    "                         'buildUpPlayPassingClass', 'buildUpPlaySpeedClass','chanceCreationCrossingClass','chanceCreationShootingClass','buildUpPlayDribblingClass']  \n",
    "\n",
    "# Realizar la codificación one-hot\n",
    "data_encoded = pd.get_dummies(df, columns=variables_categoricas)\n",
    "\n",
    "# Dividir los datos en conjunto de entrenamiento y prueba\n",
    "X_train, X_test, y_train, y_test = train_test_split(data_encoded.drop('chanceCreationShooting', axis=1), data_encoded['chanceCreationShooting'], test_size=0.2, random_state=42)\n",
    "\n",
    "# Escalar los datos utilizando StandardScaler\n",
    "scaler = StandardScaler()\n",
    "scaler.fit(X_train)\n",
    "\n",
    "X_train_std = scaler.transform(X_train)\n",
    "X_test_std = scaler.transform(X_test)"
   ]
  },
  {
   "attachments": {},
   "cell_type": "markdown",
   "metadata": {},
   "source": [
    "### LogisticRegression"
   ]
  },
  {
   "cell_type": "code",
   "execution_count": 481,
   "metadata": {},
   "outputs": [
    {
     "name": "stderr",
     "output_type": "stream",
     "text": [
      "c:\\Users\\Jose L\\anaconda3\\lib\\site-packages\\sklearn\\linear_model\\_logistic.py:814: ConvergenceWarning: lbfgs failed to converge (status=1):\n",
      "STOP: TOTAL NO. of ITERATIONS REACHED LIMIT.\n",
      "\n",
      "Increase the number of iterations (max_iter) or scale the data as shown in:\n",
      "    https://scikit-learn.org/stable/modules/preprocessing.html\n",
      "Please also refer to the documentation for alternative solver options:\n",
      "    https://scikit-learn.org/stable/modules/linear_model.html#logistic-regression\n",
      "  n_iter_i = _check_optimize_result(\n"
     ]
    },
    {
     "data": {
      "text/plain": [
       "array([50, 52, 52, 70, 59, 50, 32, 53, 50, 48, 50, 53, 60, 52, 44, 55, 50,\n",
       "       58, 60, 52, 47, 50, 53, 70, 66, 35, 54, 65, 47, 53, 36, 56, 55, 55,\n",
       "       50, 47, 53, 50, 50, 50, 35, 54, 53, 50, 68, 56, 70, 47, 70, 67, 46,\n",
       "       70, 44, 49, 48, 55, 35, 50, 53, 50, 59, 67, 55, 46, 49, 60, 70, 55,\n",
       "       32, 52, 53, 50, 50, 60, 50, 49, 46, 53, 40, 23, 48, 40, 52, 39, 60,\n",
       "       41, 50, 50, 50, 53, 50, 50, 43, 47, 60, 57, 60, 50, 49, 64, 53, 34,\n",
       "       65, 68, 50, 47, 53, 53, 47, 67, 50, 52, 50, 60, 40, 53, 52, 50, 56,\n",
       "       68, 68, 76, 50, 34, 50, 70, 53, 53, 67, 58, 65, 70, 50, 50, 50, 50,\n",
       "       67, 40, 53, 68, 59, 52, 67, 50, 50, 70, 50, 46, 50, 68, 53, 57, 59,\n",
       "       37, 36, 58, 50, 46, 54, 53, 52, 50, 50, 44, 50, 70, 51, 64, 50, 60,\n",
       "       50, 54, 67, 65, 52, 65, 72, 52, 50, 50, 56, 70, 50, 58, 53, 40, 35,\n",
       "       32, 44, 66, 65, 55, 50, 46, 53, 68, 56, 59, 48, 53, 60, 50, 52, 53,\n",
       "       50, 46, 70, 52, 52, 50, 68, 53, 54, 50, 57, 69, 50, 39, 70, 40, 58,\n",
       "       70, 50, 53, 59, 48, 52, 58, 70, 52, 70, 67, 46, 50, 50, 50, 50, 50,\n",
       "       39, 50, 50, 65, 59, 65, 70, 68, 54, 57, 50, 35, 53, 50, 50, 50, 53,\n",
       "       48, 35, 54, 46, 50, 50, 47, 52, 70, 60, 50, 36, 65, 53, 40, 70, 53,\n",
       "       58, 65, 53, 36, 35, 52, 50, 64, 57, 50, 50, 39, 48, 22, 70, 50, 53,\n",
       "       30, 70, 50], dtype=int64)"
      ]
     },
     "execution_count": 481,
     "metadata": {},
     "output_type": "execute_result"
    }
   ],
   "source": [
    "from sklearn.linear_model import LogisticRegression\n",
    "\n",
    "logit = LogisticRegression()\n",
    "logit.fit(X_train_std, y_train)\n",
    "\n",
    "logit_preds = logit.predict(X_test_std)\n",
    "logit_preds"
   ]
  },
  {
   "cell_type": "code",
   "execution_count": 482,
   "metadata": {},
   "outputs": [
    {
     "name": "stdout",
     "output_type": "stream",
     "text": [
      "Accuracy: 0.08561643835616438\n"
     ]
    },
    {
     "name": "stderr",
     "output_type": "stream",
     "text": [
      "c:\\Users\\Jose L\\anaconda3\\lib\\site-packages\\sklearn\\linear_model\\_logistic.py:814: ConvergenceWarning: lbfgs failed to converge (status=1):\n",
      "STOP: TOTAL NO. of ITERATIONS REACHED LIMIT.\n",
      "\n",
      "Increase the number of iterations (max_iter) or scale the data as shown in:\n",
      "    https://scikit-learn.org/stable/modules/preprocessing.html\n",
      "Please also refer to the documentation for alternative solver options:\n",
      "    https://scikit-learn.org/stable/modules/linear_model.html#logistic-regression\n",
      "  n_iter_i = _check_optimize_result(\n"
     ]
    }
   ],
   "source": [
    "from sklearn.linear_model import LogisticRegression\n",
    "from sklearn.metrics import accuracy_score\n",
    "\n",
    "# Assuming you have X_train, X_test, y_train, y_test as your training and test data\n",
    "\n",
    "# Create an instance of Logistic Regression\n",
    "logreg = LogisticRegression()\n",
    "\n",
    "# Fit the model on the training data\n",
    "logreg.fit(X_train, y_train)\n",
    "\n",
    "# Make predictions on the test data\n",
    "y_pred = logreg.predict(X_test)\n",
    "\n",
    "# Calculate the accuracy of the model\n",
    "accuracy = accuracy_score(y_test, y_pred)\n",
    "print(\"Accuracy:\", accuracy)"
   ]
  },
  {
   "attachments": {},
   "cell_type": "markdown",
   "metadata": {},
   "source": [
    "### roc_auc_score NO se logro obtener"
   ]
  },
  {
   "cell_type": "code",
   "execution_count": 502,
   "metadata": {},
   "outputs": [
    {
     "name": "stderr",
     "output_type": "stream",
     "text": [
      "c:\\Users\\Jose L\\anaconda3\\lib\\site-packages\\sklearn\\base.py:443: UserWarning: X has feature names, but LogisticRegression was fitted without feature names\n",
      "  warnings.warn(\n"
     ]
    },
    {
     "ename": "ValueError",
     "evalue": "Number of classes in y_true not equal to the number of columns in 'y_score'",
     "output_type": "error",
     "traceback": [
      "\u001b[1;31m---------------------------------------------------------------------------\u001b[0m",
      "\u001b[1;31mValueError\u001b[0m                                Traceback (most recent call last)",
      "\u001b[1;32m~\\AppData\\Local\\Temp\\ipykernel_11528\\606563638.py\u001b[0m in \u001b[0;36m<module>\u001b[1;34m\u001b[0m\n\u001b[0;32m      2\u001b[0m \u001b[1;33m\u001b[0m\u001b[0m\n\u001b[0;32m      3\u001b[0m \u001b[0my_scores\u001b[0m \u001b[1;33m=\u001b[0m \u001b[0mlogit\u001b[0m\u001b[1;33m.\u001b[0m\u001b[0mpredict_proba\u001b[0m\u001b[1;33m(\u001b[0m\u001b[0mX_test\u001b[0m\u001b[1;33m)\u001b[0m\u001b[1;33m\u001b[0m\u001b[1;33m\u001b[0m\u001b[0m\n\u001b[1;32m----> 4\u001b[1;33m \u001b[0mroc_auc\u001b[0m \u001b[1;33m=\u001b[0m \u001b[0mroc_auc_score\u001b[0m\u001b[1;33m(\u001b[0m\u001b[0my_test\u001b[0m\u001b[1;33m,\u001b[0m \u001b[0my_scores\u001b[0m\u001b[1;33m,\u001b[0m \u001b[0mmulti_class\u001b[0m\u001b[1;33m=\u001b[0m\u001b[1;34m'ovr'\u001b[0m\u001b[1;33m)\u001b[0m\u001b[1;33m\u001b[0m\u001b[1;33m\u001b[0m\u001b[0m\n\u001b[0m\u001b[0;32m      5\u001b[0m \u001b[0macc\u001b[0m \u001b[1;33m=\u001b[0m \u001b[0mround\u001b[0m\u001b[1;33m(\u001b[0m\u001b[0maccuracy_score\u001b[0m\u001b[1;33m(\u001b[0m\u001b[0my_test\u001b[0m\u001b[1;33m,\u001b[0m \u001b[0mlogit_preds\u001b[0m\u001b[1;33m)\u001b[0m\u001b[1;33m,\u001b[0m\u001b[1;36m5\u001b[0m\u001b[1;33m)\u001b[0m\u001b[1;33m\u001b[0m\u001b[1;33m\u001b[0m\u001b[0m\n",
      "\u001b[1;32mc:\\Users\\Jose L\\anaconda3\\lib\\site-packages\\sklearn\\metrics\\_ranking.py\u001b[0m in \u001b[0;36mroc_auc_score\u001b[1;34m(y_true, y_score, average, sample_weight, max_fpr, multi_class, labels)\u001b[0m\n\u001b[0;32m    559\u001b[0m         \u001b[1;32mif\u001b[0m \u001b[0mmulti_class\u001b[0m \u001b[1;33m==\u001b[0m \u001b[1;34m\"raise\"\u001b[0m\u001b[1;33m:\u001b[0m\u001b[1;33m\u001b[0m\u001b[1;33m\u001b[0m\u001b[0m\n\u001b[0;32m    560\u001b[0m             \u001b[1;32mraise\u001b[0m \u001b[0mValueError\u001b[0m\u001b[1;33m(\u001b[0m\u001b[1;34m\"multi_class must be in ('ovo', 'ovr')\"\u001b[0m\u001b[1;33m)\u001b[0m\u001b[1;33m\u001b[0m\u001b[1;33m\u001b[0m\u001b[0m\n\u001b[1;32m--> 561\u001b[1;33m         return _multiclass_roc_auc_score(\n\u001b[0m\u001b[0;32m    562\u001b[0m             \u001b[0my_true\u001b[0m\u001b[1;33m,\u001b[0m \u001b[0my_score\u001b[0m\u001b[1;33m,\u001b[0m \u001b[0mlabels\u001b[0m\u001b[1;33m,\u001b[0m \u001b[0mmulti_class\u001b[0m\u001b[1;33m,\u001b[0m \u001b[0maverage\u001b[0m\u001b[1;33m,\u001b[0m \u001b[0msample_weight\u001b[0m\u001b[1;33m\u001b[0m\u001b[1;33m\u001b[0m\u001b[0m\n\u001b[0;32m    563\u001b[0m         )\n",
      "\u001b[1;32mc:\\Users\\Jose L\\anaconda3\\lib\\site-packages\\sklearn\\metrics\\_ranking.py\u001b[0m in \u001b[0;36m_multiclass_roc_auc_score\u001b[1;34m(y_true, y_score, labels, multi_class, average, sample_weight)\u001b[0m\n\u001b[0;32m    663\u001b[0m         \u001b[0mclasses\u001b[0m \u001b[1;33m=\u001b[0m \u001b[0m_unique\u001b[0m\u001b[1;33m(\u001b[0m\u001b[0my_true\u001b[0m\u001b[1;33m)\u001b[0m\u001b[1;33m\u001b[0m\u001b[1;33m\u001b[0m\u001b[0m\n\u001b[0;32m    664\u001b[0m         \u001b[1;32mif\u001b[0m \u001b[0mlen\u001b[0m\u001b[1;33m(\u001b[0m\u001b[0mclasses\u001b[0m\u001b[1;33m)\u001b[0m \u001b[1;33m!=\u001b[0m \u001b[0my_score\u001b[0m\u001b[1;33m.\u001b[0m\u001b[0mshape\u001b[0m\u001b[1;33m[\u001b[0m\u001b[1;36m1\u001b[0m\u001b[1;33m]\u001b[0m\u001b[1;33m:\u001b[0m\u001b[1;33m\u001b[0m\u001b[1;33m\u001b[0m\u001b[0m\n\u001b[1;32m--> 665\u001b[1;33m             raise ValueError(\n\u001b[0m\u001b[0;32m    666\u001b[0m                 \u001b[1;34m\"Number of classes in y_true not equal to the number of \"\u001b[0m\u001b[1;33m\u001b[0m\u001b[1;33m\u001b[0m\u001b[0m\n\u001b[0;32m    667\u001b[0m                 \u001b[1;34m\"columns in 'y_score'\"\u001b[0m\u001b[1;33m\u001b[0m\u001b[1;33m\u001b[0m\u001b[0m\n",
      "\u001b[1;31mValueError\u001b[0m: Number of classes in y_true not equal to the number of columns in 'y_score'"
     ]
    }
   ],
   "source": [
    "from sklearn.metrics import roc_auc_score\n",
    "\n",
    "y_scores = logit.predict_proba(X_test)\n",
    "roc_auc = roc_auc_score(y_test, y_scores, multi_class='ovr')\n",
    "acc = round(accuracy_score(y_test, logit_preds),5)"
   ]
  },
  {
   "attachments": {},
   "cell_type": "markdown",
   "metadata": {},
   "source": [
    "### Optimizacion de parametros GridSearchCV, KFold"
   ]
  },
  {
   "cell_type": "code",
   "execution_count": 484,
   "metadata": {},
   "outputs": [
    {
     "name": "stderr",
     "output_type": "stream",
     "text": [
      "c:\\Users\\Jose L\\anaconda3\\lib\\site-packages\\sklearn\\linear_model\\_logistic.py:814: ConvergenceWarning: lbfgs failed to converge (status=1):\n",
      "STOP: TOTAL NO. of ITERATIONS REACHED LIMIT.\n",
      "\n",
      "Increase the number of iterations (max_iter) or scale the data as shown in:\n",
      "    https://scikit-learn.org/stable/modules/preprocessing.html\n",
      "Please also refer to the documentation for alternative solver options:\n",
      "    https://scikit-learn.org/stable/modules/linear_model.html#logistic-regression\n",
      "  n_iter_i = _check_optimize_result(\n",
      "c:\\Users\\Jose L\\anaconda3\\lib\\site-packages\\sklearn\\linear_model\\_logistic.py:814: ConvergenceWarning: lbfgs failed to converge (status=1):\n",
      "STOP: TOTAL NO. of ITERATIONS REACHED LIMIT.\n",
      "\n",
      "Increase the number of iterations (max_iter) or scale the data as shown in:\n",
      "    https://scikit-learn.org/stable/modules/preprocessing.html\n",
      "Please also refer to the documentation for alternative solver options:\n",
      "    https://scikit-learn.org/stable/modules/linear_model.html#logistic-regression\n",
      "  n_iter_i = _check_optimize_result(\n",
      "c:\\Users\\Jose L\\anaconda3\\lib\\site-packages\\sklearn\\linear_model\\_logistic.py:814: ConvergenceWarning: lbfgs failed to converge (status=1):\n",
      "STOP: TOTAL NO. of ITERATIONS REACHED LIMIT.\n",
      "\n",
      "Increase the number of iterations (max_iter) or scale the data as shown in:\n",
      "    https://scikit-learn.org/stable/modules/preprocessing.html\n",
      "Please also refer to the documentation for alternative solver options:\n",
      "    https://scikit-learn.org/stable/modules/linear_model.html#logistic-regression\n",
      "  n_iter_i = _check_optimize_result(\n",
      "c:\\Users\\Jose L\\anaconda3\\lib\\site-packages\\sklearn\\linear_model\\_logistic.py:814: ConvergenceWarning: lbfgs failed to converge (status=1):\n",
      "STOP: TOTAL NO. of ITERATIONS REACHED LIMIT.\n",
      "\n",
      "Increase the number of iterations (max_iter) or scale the data as shown in:\n",
      "    https://scikit-learn.org/stable/modules/preprocessing.html\n",
      "Please also refer to the documentation for alternative solver options:\n",
      "    https://scikit-learn.org/stable/modules/linear_model.html#logistic-regression\n",
      "  n_iter_i = _check_optimize_result(\n",
      "c:\\Users\\Jose L\\anaconda3\\lib\\site-packages\\sklearn\\linear_model\\_logistic.py:814: ConvergenceWarning: lbfgs failed to converge (status=1):\n",
      "STOP: TOTAL NO. of ITERATIONS REACHED LIMIT.\n",
      "\n",
      "Increase the number of iterations (max_iter) or scale the data as shown in:\n",
      "    https://scikit-learn.org/stable/modules/preprocessing.html\n",
      "Please also refer to the documentation for alternative solver options:\n",
      "    https://scikit-learn.org/stable/modules/linear_model.html#logistic-regression\n",
      "  n_iter_i = _check_optimize_result(\n",
      "c:\\Users\\Jose L\\anaconda3\\lib\\site-packages\\sklearn\\linear_model\\_logistic.py:814: ConvergenceWarning: lbfgs failed to converge (status=1):\n",
      "STOP: TOTAL NO. of ITERATIONS REACHED LIMIT.\n",
      "\n",
      "Increase the number of iterations (max_iter) or scale the data as shown in:\n",
      "    https://scikit-learn.org/stable/modules/preprocessing.html\n",
      "Please also refer to the documentation for alternative solver options:\n",
      "    https://scikit-learn.org/stable/modules/linear_model.html#logistic-regression\n",
      "  n_iter_i = _check_optimize_result(\n",
      "c:\\Users\\Jose L\\anaconda3\\lib\\site-packages\\sklearn\\linear_model\\_logistic.py:814: ConvergenceWarning: lbfgs failed to converge (status=1):\n",
      "STOP: TOTAL NO. of ITERATIONS REACHED LIMIT.\n",
      "\n",
      "Increase the number of iterations (max_iter) or scale the data as shown in:\n",
      "    https://scikit-learn.org/stable/modules/preprocessing.html\n",
      "Please also refer to the documentation for alternative solver options:\n",
      "    https://scikit-learn.org/stable/modules/linear_model.html#logistic-regression\n",
      "  n_iter_i = _check_optimize_result(\n",
      "c:\\Users\\Jose L\\anaconda3\\lib\\site-packages\\sklearn\\linear_model\\_logistic.py:814: ConvergenceWarning: lbfgs failed to converge (status=1):\n",
      "STOP: TOTAL NO. of ITERATIONS REACHED LIMIT.\n",
      "\n",
      "Increase the number of iterations (max_iter) or scale the data as shown in:\n",
      "    https://scikit-learn.org/stable/modules/preprocessing.html\n",
      "Please also refer to the documentation for alternative solver options:\n",
      "    https://scikit-learn.org/stable/modules/linear_model.html#logistic-regression\n",
      "  n_iter_i = _check_optimize_result(\n",
      "c:\\Users\\Jose L\\anaconda3\\lib\\site-packages\\sklearn\\linear_model\\_logistic.py:814: ConvergenceWarning: lbfgs failed to converge (status=1):\n",
      "STOP: TOTAL NO. of ITERATIONS REACHED LIMIT.\n",
      "\n",
      "Increase the number of iterations (max_iter) or scale the data as shown in:\n",
      "    https://scikit-learn.org/stable/modules/preprocessing.html\n",
      "Please also refer to the documentation for alternative solver options:\n",
      "    https://scikit-learn.org/stable/modules/linear_model.html#logistic-regression\n",
      "  n_iter_i = _check_optimize_result(\n",
      "c:\\Users\\Jose L\\anaconda3\\lib\\site-packages\\sklearn\\linear_model\\_logistic.py:814: ConvergenceWarning: lbfgs failed to converge (status=1):\n",
      "STOP: TOTAL NO. of ITERATIONS REACHED LIMIT.\n",
      "\n",
      "Increase the number of iterations (max_iter) or scale the data as shown in:\n",
      "    https://scikit-learn.org/stable/modules/preprocessing.html\n",
      "Please also refer to the documentation for alternative solver options:\n",
      "    https://scikit-learn.org/stable/modules/linear_model.html#logistic-regression\n",
      "  n_iter_i = _check_optimize_result(\n",
      "c:\\Users\\Jose L\\anaconda3\\lib\\site-packages\\sklearn\\linear_model\\_logistic.py:814: ConvergenceWarning: lbfgs failed to converge (status=1):\n",
      "STOP: TOTAL NO. of ITERATIONS REACHED LIMIT.\n",
      "\n",
      "Increase the number of iterations (max_iter) or scale the data as shown in:\n",
      "    https://scikit-learn.org/stable/modules/preprocessing.html\n",
      "Please also refer to the documentation for alternative solver options:\n",
      "    https://scikit-learn.org/stable/modules/linear_model.html#logistic-regression\n",
      "  n_iter_i = _check_optimize_result(\n",
      "c:\\Users\\Jose L\\anaconda3\\lib\\site-packages\\sklearn\\linear_model\\_logistic.py:814: ConvergenceWarning: lbfgs failed to converge (status=1):\n",
      "STOP: TOTAL NO. of ITERATIONS REACHED LIMIT.\n",
      "\n",
      "Increase the number of iterations (max_iter) or scale the data as shown in:\n",
      "    https://scikit-learn.org/stable/modules/preprocessing.html\n",
      "Please also refer to the documentation for alternative solver options:\n",
      "    https://scikit-learn.org/stable/modules/linear_model.html#logistic-regression\n",
      "  n_iter_i = _check_optimize_result(\n",
      "c:\\Users\\Jose L\\anaconda3\\lib\\site-packages\\sklearn\\linear_model\\_logistic.py:814: ConvergenceWarning: lbfgs failed to converge (status=1):\n",
      "STOP: TOTAL NO. of ITERATIONS REACHED LIMIT.\n",
      "\n",
      "Increase the number of iterations (max_iter) or scale the data as shown in:\n",
      "    https://scikit-learn.org/stable/modules/preprocessing.html\n",
      "Please also refer to the documentation for alternative solver options:\n",
      "    https://scikit-learn.org/stable/modules/linear_model.html#logistic-regression\n",
      "  n_iter_i = _check_optimize_result(\n",
      "c:\\Users\\Jose L\\anaconda3\\lib\\site-packages\\sklearn\\linear_model\\_logistic.py:814: ConvergenceWarning: lbfgs failed to converge (status=1):\n",
      "STOP: TOTAL NO. of ITERATIONS REACHED LIMIT.\n",
      "\n",
      "Increase the number of iterations (max_iter) or scale the data as shown in:\n",
      "    https://scikit-learn.org/stable/modules/preprocessing.html\n",
      "Please also refer to the documentation for alternative solver options:\n",
      "    https://scikit-learn.org/stable/modules/linear_model.html#logistic-regression\n",
      "  n_iter_i = _check_optimize_result(\n",
      "c:\\Users\\Jose L\\anaconda3\\lib\\site-packages\\sklearn\\linear_model\\_logistic.py:814: ConvergenceWarning: lbfgs failed to converge (status=1):\n",
      "STOP: TOTAL NO. of ITERATIONS REACHED LIMIT.\n",
      "\n",
      "Increase the number of iterations (max_iter) or scale the data as shown in:\n",
      "    https://scikit-learn.org/stable/modules/preprocessing.html\n",
      "Please also refer to the documentation for alternative solver options:\n",
      "    https://scikit-learn.org/stable/modules/linear_model.html#logistic-regression\n",
      "  n_iter_i = _check_optimize_result(\n",
      "c:\\Users\\Jose L\\anaconda3\\lib\\site-packages\\sklearn\\model_selection\\_validation.py:372: FitFailedWarning: \n",
      "15 fits failed out of a total of 30.\n",
      "The score on these train-test partitions for these parameters will be set to nan.\n",
      "If these failures are not expected, you can try to debug them by setting error_score='raise'.\n",
      "\n",
      "Below are more details about the failures:\n",
      "--------------------------------------------------------------------------------\n",
      "15 fits failed with the following error:\n",
      "Traceback (most recent call last):\n",
      "  File \"c:\\Users\\Jose L\\anaconda3\\lib\\site-packages\\sklearn\\model_selection\\_validation.py\", line 680, in _fit_and_score\n",
      "    estimator.fit(X_train, y_train, **fit_params)\n",
      "  File \"c:\\Users\\Jose L\\anaconda3\\lib\\site-packages\\sklearn\\linear_model\\_logistic.py\", line 1461, in fit\n",
      "    solver = _check_solver(self.solver, self.penalty, self.dual)\n",
      "  File \"c:\\Users\\Jose L\\anaconda3\\lib\\site-packages\\sklearn\\linear_model\\_logistic.py\", line 447, in _check_solver\n",
      "    raise ValueError(\n",
      "ValueError: Solver lbfgs supports only 'l2' or 'none' penalties, got l1 penalty.\n",
      "\n",
      "  warnings.warn(some_fits_failed_message, FitFailedWarning)\n",
      "c:\\Users\\Jose L\\anaconda3\\lib\\site-packages\\sklearn\\model_selection\\_search.py:969: UserWarning: One or more of the test scores are non-finite: [       nan 0.09004805        nan 0.08746928        nan 0.09261216]\n",
      "  warnings.warn(\n"
     ]
    },
    {
     "name": "stdout",
     "output_type": "stream",
     "text": [
      "Mejores hiperparámetros: {'C': 10.0, 'penalty': 'l2'}\n",
      "Accuracy: 0.0821917808219178\n"
     ]
    },
    {
     "name": "stderr",
     "output_type": "stream",
     "text": [
      "c:\\Users\\Jose L\\anaconda3\\lib\\site-packages\\sklearn\\linear_model\\_logistic.py:814: ConvergenceWarning: lbfgs failed to converge (status=1):\n",
      "STOP: TOTAL NO. of ITERATIONS REACHED LIMIT.\n",
      "\n",
      "Increase the number of iterations (max_iter) or scale the data as shown in:\n",
      "    https://scikit-learn.org/stable/modules/preprocessing.html\n",
      "Please also refer to the documentation for alternative solver options:\n",
      "    https://scikit-learn.org/stable/modules/linear_model.html#logistic-regression\n",
      "  n_iter_i = _check_optimize_result(\n"
     ]
    }
   ],
   "source": [
    "from sklearn.model_selection import GridSearchCV, KFold\n",
    "from sklearn.preprocessing import StandardScaler\n",
    "\n",
    "param_grid = {'C': [0.1, 1.0, 10.0],\n",
    "              'penalty': ['l1', 'l2']}\n",
    "\n",
    "logistic_model = LogisticRegression()\n",
    "kfold = KFold(n_splits=5, shuffle=True, random_state=42)\n",
    "\n",
    "grid_search = GridSearchCV(logistic_model, param_grid, cv=kfold, scoring='accuracy')\n",
    "grid_search.fit(X_train, y_train)\n",
    "\n",
    "best_model = grid_search.best_estimator_\n",
    "best_params = grid_search.best_params_\n",
    "\n",
    "y_pred = best_model.predict(X_test)\n",
    "accuracy = accuracy_score(y_test, y_pred)\n",
    "\n",
    "print(\"Mejores hiperparámetros:\", best_params)\n",
    "print(\"Accuracy:\", accuracy)"
   ]
  },
  {
   "cell_type": "code",
   "execution_count": 501,
   "metadata": {},
   "outputs": [
    {
     "name": "stdout",
     "output_type": "stream",
     "text": [
      "Accuracy: 0.0821917808219178\n",
      "Precision: 0.03365688382712117\n",
      "Recall: 0.0821917808219178\n",
      "F1 Score: 0.04596719986386455\n"
     ]
    },
    {
     "name": "stderr",
     "output_type": "stream",
     "text": [
      "c:\\Users\\Jose L\\anaconda3\\lib\\site-packages\\sklearn\\linear_model\\_logistic.py:814: ConvergenceWarning: lbfgs failed to converge (status=1):\n",
      "STOP: TOTAL NO. of ITERATIONS REACHED LIMIT.\n",
      "\n",
      "Increase the number of iterations (max_iter) or scale the data as shown in:\n",
      "    https://scikit-learn.org/stable/modules/preprocessing.html\n",
      "Please also refer to the documentation for alternative solver options:\n",
      "    https://scikit-learn.org/stable/modules/linear_model.html#logistic-regression\n",
      "  n_iter_i = _check_optimize_result(\n",
      "c:\\Users\\Jose L\\anaconda3\\lib\\site-packages\\sklearn\\metrics\\_classification.py:1318: UndefinedMetricWarning: Precision is ill-defined and being set to 0.0 in labels with no predicted samples. Use `zero_division` parameter to control this behavior.\n",
      "  _warn_prf(average, modifier, msg_start, len(result))\n"
     ]
    }
   ],
   "source": [
    "from sklearn.linear_model import LogisticRegression\n",
    "\n",
    "best_model = LogisticRegression(C=10.0, penalty='l2')\n",
    "best_model.fit(X_train, y_train)\n",
    "y_pred = best_model.predict(X_test)\n",
    "\n",
    "accuracy = accuracy_score(y_test, y_pred)\n",
    "precision = precision_score(y_test, y_pred, average='weighted')\n",
    "recall = recall_score(y_test, y_pred, average='weighted')\n",
    "f1 = f1_score(y_test, y_pred, average='weighted')\n",
    "\n",
    "print(\"Accuracy:\", accuracy)\n",
    "print(\"Precision:\", precision)\n",
    "print(\"Recall:\", recall)\n",
    "print(\"F1 Score:\", f1)"
   ]
  },
  {
   "attachments": {},
   "cell_type": "markdown",
   "metadata": {},
   "source": [
    "### Optimizacion de Random Forest"
   ]
  },
  {
   "attachments": {},
   "cell_type": "markdown",
   "metadata": {},
   "source": [
    "### Y 6 Evaluar datos dado la matriz de confucion"
   ]
  },
  {
   "cell_type": "code",
   "execution_count": 500,
   "metadata": {},
   "outputs": [
    {
     "name": "stdout",
     "output_type": "stream",
     "text": [
      "Confusion Matrix:\n",
      "[[0 0 0 ... 0 0 0]\n",
      " [1 0 0 ... 0 0 0]\n",
      " [0 1 0 ... 0 0 0]\n",
      " ...\n",
      " [0 0 0 ... 0 0 0]\n",
      " [0 0 0 ... 0 0 0]\n",
      " [0 0 0 ... 0 0 0]]\n",
      "Precision: 0.4083083375045214\n",
      "Recall: 0.3972602739726027\n",
      "Accuracy: 0.3972602739726027\n",
      "F1 Score: 0.37415747433293156\n"
     ]
    },
    {
     "name": "stderr",
     "output_type": "stream",
     "text": [
      "c:\\Users\\Jose L\\anaconda3\\lib\\site-packages\\sklearn\\metrics\\_classification.py:1318: UndefinedMetricWarning: Precision is ill-defined and being set to 0.0 in labels with no predicted samples. Use `zero_division` parameter to control this behavior.\n",
      "  _warn_prf(average, modifier, msg_start, len(result))\n",
      "c:\\Users\\Jose L\\anaconda3\\lib\\site-packages\\sklearn\\metrics\\_classification.py:1318: UndefinedMetricWarning: Recall is ill-defined and being set to 0.0 in labels with no true samples. Use `zero_division` parameter to control this behavior.\n",
      "  _warn_prf(average, modifier, msg_start, len(result))\n"
     ]
    }
   ],
   "source": [
    "from sklearn.ensemble import RandomForestClassifier\n",
    "from sklearn.metrics import confusion_matrix, precision_score, recall_score, accuracy_score, f1_score\n",
    "\n",
    "model = RandomForestClassifier()\n",
    "model.fit(X_train, y_train)\n",
    "y_pred = model.predict(X_test)\n",
    "confusion_mat = confusion_matrix(y_test, y_pred)\n",
    "precision = precision_score(y_test, y_pred, average='weighted')\n",
    "recall = recall_score(y_test, y_pred, average='weighted')\n",
    "accuracy = accuracy_score(y_test, y_pred)\n",
    "f1 = f1_score(y_test, y_pred, average='weighted')\n",
    "\n",
    "# Imprimir los resultados\n",
    "print(\"Confusion Matrix:\")\n",
    "print(confusion_mat)\n",
    "print(\"Precision:\", precision)\n",
    "print(\"Recall:\", recall)\n",
    "print(\"Accuracy:\", accuracy)\n",
    "print(\"F1 Score:\", f1)"
   ]
  },
  {
   "cell_type": "code",
   "execution_count": 489,
   "metadata": {},
   "outputs": [
    {
     "data": {
      "image/png": "[encoded data removed]",
      "text/plain": [
       "<Figure size 640x480 with 2 Axes>"
      ]
     },
     "metadata": {},
     "output_type": "display_data"
    }
   ],
   "source": [
    "from sklearn.metrics import confusion_matrix\n",
    "import seaborn as sns\n",
    "import matplotlib.pyplot as plt\n",
    "\n",
    "y_pred = rf_model.predict(X_test)\n",
    "cm = confusion_matrix(y_test, y_pred)\n",
    "sns.heatmap(cm, annot=True, fmt=\"d\", cmap=\"Blues\")\n",
    "plt.xlabel(\"Predicted\")\n",
    "plt.ylabel(\"Actual\")\n",
    "plt.title(\"Confusion Matrix\")\n",
    "plt.show()"
   ]
  }
 ],
 "metadata": {
  "kernelspec": {
   "display_name": "base",
   "language": "python",
   "name": "python3"
  },
  "language_info": {
   "codemirror_mode": {
    "name": "ipython",
    "version": 3
   },
   "file_extension": ".py",
   "mimetype": "text/x-python",
   "name": "python",
   "nbconvert_exporter": "python",
   "pygments_lexer": "ipython3",
   "version": "3.9.13"
  },
  "orig_nbformat": 4
 },
 "nbformat": 4,
 "nbformat_minor": 2
}
